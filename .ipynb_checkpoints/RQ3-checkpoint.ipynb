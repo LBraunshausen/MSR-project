{
 "cells": [
  {
   "cell_type": "markdown",
   "id": "8e157125",
   "metadata": {},
   "source": [
    "# Forschungsfrage 3\n",
    "\n",
    "Im Folgendem wird die Forschungsfrage 3 behandelt.\n",
    "\n",
    "\tAuf welche Technologien oder Frameworks wird sich dabei bezogen?"
   ]
  },
  {
   "cell_type": "markdown",
   "id": "ae02dd32",
   "metadata": {},
   "source": [
    "# Importieren der Module\n",
    "In der folgenden Zelle werden die benötigten Module, wie zum Beispiel Spacy und scikit-learn importiert."
   ]
  },
  {
   "cell_type": "code",
   "execution_count": 14,
   "id": "eee0e402",
   "metadata": {},
   "outputs": [],
   "source": [
    "import os\n",
    "os.environ[\"KMP_DUPLICATE_LIB_OK\"]=\"TRUE\"\n",
    "import matplotlib.pyplot as plt\n",
    "import spacy \n",
    "from spacy.matcher import Matcher\n",
    "from spacy.scorer import Scorer\n",
    "from spacy.training import Example\n",
    "from spacy.tokens import Doc\n",
    "from spacy.util import filter_spans\n",
    "import pandas as pd\n",
    "import re\n",
    "from collections import Counter\n",
    "import sklearn\n",
    "from sklearn.feature_extraction.text import TfidfVectorizer\n",
    "from sklearn.metrics.pairwise import cosine_similarity\n",
    "from sklearn.metrics import f1_score\n",
    "import numpy as np\n",
    "import copy\n",
    "import csv"
   ]
  },
  {
   "cell_type": "markdown",
   "id": "7ec5e7cb",
   "metadata": {},
   "source": [
    "Die Konfiguration der unteren Zelle dient der Auswahl der Datensätze. Um alle Datensätze zu erfassen ist start_post = 0 und end_post = 42637 zu setzen"
   ]
  },
  {
   "cell_type": "code",
   "execution_count": 15,
   "id": "e7fdd39b",
   "metadata": {},
   "outputs": [],
   "source": [
    "# configuration\n",
    "n_tag_posts = 1000\n",
    "n_answer_posts = 42637"
   ]
  },
  {
   "cell_type": "markdown",
   "id": "b321eb5e",
   "metadata": {},
   "source": [
    "# Datensätze laden\n",
    "Als nächstes müssen die Datensätze aus der exportierten CSV-Datei geladen werden."
   ]
  },
  {
   "cell_type": "code",
   "execution_count": 16,
   "id": "fb345964",
   "metadata": {},
   "outputs": [
    {
     "name": "stdout",
     "output_type": "stream",
     "text": [
      "loaded csv data\n"
     ]
    }
   ],
   "source": [
    "# Load csv data\n",
    "filepath = os.path.join(os.getcwd(), 'QueryResults_sample_42636_14_05_21.csv')\n",
    "\n",
    "stack_posts = pd.read_csv(filepath, sep = \",\")\n",
    "\n",
    "print(\"loaded csv data\")"
   ]
  },
  {
   "cell_type": "markdown",
   "id": "5e4758aa",
   "metadata": {},
   "source": [
    "# Datenbereinigung\n",
    "Im Folgendem werden die Tags der Posts bereinigt, damit diese keine spitzen Klammern enthalten. Außerdem wird der Tag \"machine-learning\" exkludiert, da dieser in jedem Post enthalten ist."
   ]
  },
  {
   "cell_type": "code",
   "execution_count": 17,
   "id": "e7405510",
   "metadata": {},
   "outputs": [
    {
     "name": "stdout",
     "output_type": "stream",
     "text": [
      "{'calculus', 'pylearn', 'multilabel-classification', 'datumbox', 'maven', 'pom.xml', 'grouping', 'accord.net', 'data-structures', 'document-classification', 'outliers', 'weka', 'dictionary', 'matplotlib', 'hungarian-algorithm', 'standardized', 'csv', 'google-analytics-api', 'amazon-s3', 'knn', 'nltk', 'authentication', 'scikits', 'machine-translation', 'gpu', 'genetic-algorithm', 'web-services', 'dbscan', 'wordnet', 'lstm', 'notifications', 'emgucv', 'dlib', 'hadoop', 'snort', 'topic-modeling', 'azure-machine-learning-studio', 'azure-virtual-machine', 'search', 'gradient', 'filesystems', 'sorting', 'random-forest', 'treemodel', 'id3', 'q-learning', 'pruning', 'vision', 'r-caret', 'computer-science', 'predict', 'ssas', 'topic-maps', 'porter-stemmer', 'pybrain', 'powerbi', 'linux', 'svmlight', 'perceptron', 'mp3', 'moses', 'sql-server', 'dataframe', 'kaggle', 'pandas', 'rpart', 'openimaj', 'nupic', 'c4.5', 'image-recognition', 'quicksort', 'reservoir-sampling', 'scikit-learn', 'neural-network', 'model-fitting', 'vowpalwabbit', 'prediction', 'mapreduce', 'logging', 'data-analysis', 'hashmap', 'text-analysis', 'feedparser', 'scikit-image', 'probability', 'azureservicebus', 'decision-tree', 'calibration', 'matlab', 'apache-spark', 'rbm', 'cloudera', 'spam-prevention', 'textblob', 'feature-selection', 'keyword-search', 'missing-data', 'data-visualization', 'cvx', 'performance', 'contour', 'ubuntu-12.04', 'lua', 'algorithmic-trading', 'r', 'stanford-nlp', 'fuzzy-search', 'distributed-computing', 'elki', 'arff', 'multithreading', 'numpy', 'azure-sql-database', 'torch', 'excel', 'python-3.x', 'data-science', 'join', 'predictionio', 'feature-extraction', 'backpropagation', 'gnuplot', 'pydot', 'mahout-recommender', 'javascript', 'xml', 'unsupervised-learning', 'microsoft-account', 'integration', 'archive', 'projection', 'data-representation', 'macos', 'e-commerce', 'web-scraping', 'gbm', 'sentiment-analysis', 'gearman', 'data-manipulation', 'logarithm', 'information-retrieval', 'som', 'nlp', 'vector', 'time-series', 'matconvnet', 'scala', 'kernel', 'quadratic-programming', 'linear-regression', 'plot', 'image-processing', 'scipy', 'conv-neural-network', 'cluster-analysis', 'vgg-net', 'naivebayes', 'speech-recognition', 'audio', 'computer-vision', 'analysis', 'text', 'interaction', 'text-mining', 'gps', 'correlation', 'database', 'encog', 'liblinear', 'parallel-processing', 'overlapping', 'ruby', 'math', 'r-package', 'orange', 'one-hot-encoding', 'pattern-matching', 'email-spam', 'logistic-regression', 'vb.net', 'information-theory', 'subsequence', 'nearest-neighbor', 'lda', 'numpy-ndarray', 'chess', 'kernel-density', 'elasticsearch', 'similarity', 'pyspark', 'k-means', 'tokenize', 'dirichlet', 'implementation', 'cascade-classifier', 'matrix', 'etl', 'signal-processing', 'probability-density', 'apache-spark-ml', 'linguistics', 'joblib', 'gensim', 'azure', 'resize', 'cors', 'matrix-inverse', 'security', 'twitter', 'gaussian', 'background-subtraction', 'rfe', 'mfcc', 'definition', 'bigdata', 'matlab-figure', 'hierarchical-clustering', 'c#', 'feature-detection', 'apriori', 'dbn', 'entity-framework', 'linear-algebra', 'tm', 'compilation', 'sparse-matrix', 'ranking', 'haar-classifier', 'object-detection', 'tic-tac-toe', 'google-analytics', 'grid-search', 'function', 'java', 'euclidean-distance', 'glm', 'alchemyapi', 'object-recognition', 'php', 'smo', 'text-classification', 'spss-modeler', 'autosuggest', 'single-sign-on', 'recommendation-engine', 'gate', 'algorithm', 'matrix-multiplication', 'caffe', 'hessian-matrix', 'roc', 'libsvm', 'auc', 'multinomial', 'normalization', 'ocr', 'statistics', '7zip', 'sampling', 'collaborative-filtering', 'wikipedia', 'json', 'prolog', 'test-data', 'differentiation', 'tf-idf', 'oauth', 'gradient-descent', 'webforms', 'summarization', 'j48', 'image', 'regex', 'evolutionary-algorithm', 'opencv', 'random', 'solr', 'tagged-corpus', 'cryptography', 'reduction', 'html', 'mallet', 'face-recognition', 'node.js', 'pca', 'netflix', 'freebase', 'mahout', 'acl', 'viola-jones', 'python', 'metrics', 'gridworld', 'reinforcement-learning', 'mixture-model', 'lucene', 'tesseract', 'precision-recall', 'indices', 'io', 'precision', 'netcdf', 'principal-components', 'artificial-intelligence', 'amazon-web-services', 'office365', 'evaluation', 'scientific-computing', 'stockquotes', 'bayesian', 'pattern-recognition', 'mex', 'deep-learning', 'mathematical-optimization', 'pam', 'ensemble-learning', 'overlap', 'black-box', 'theano', 'sqlite', 'word2vec', 'categorical-data', 'simplecv', 'regression', 'arrays', 'matrix-storage', 'optimization', 'convolution', 'intrusion-detection', 'api', 'julia', 'c++', 'input', 'sift', 'pickle', 'compression', 'mysql', 'validation', 'apache-spark-mllib', 'self-organizing-maps', 'sarsa', 'opennlp', 'deployment', 'confusion-matrix', 'vectorization', 'detection', 'training-data', 'azure-scheduler', 'data-mining', 'non-linear-regression', 'cuda', 'large-files', 'cross-validation', 'optics-algorithm', 'cluster-computing', 'anpr', 'apache-flink', 'python-2.7', 'named-entity-recognition', 'dataset', 'expectation-maximization', 'python-multiprocessing', 'biometrics', 'bayesian-networks', 'pos-tagger', 'classification', 'measurement', 'pmml', 'modeling', 'svm', 'parameter-passing', 'genetic-programming', 'model', 'adaboost', 'celery', 'supervised-learning', 'filesize'}\n"
     ]
    }
   ],
   "source": [
    "# drop all duplicates in posts\n",
    "df = pd.DataFrame(stack_posts[0:n_tag_posts])\n",
    "df = df.drop_duplicates([\"QuestionId\"])\n",
    "df = df.sort_values(by=[\"QuestionId\"])\n",
    "#df.duplicated([\"QuestionId\"])\n",
    "\n",
    "\n",
    "# get all tags of questions\n",
    "tag_set = set()\n",
    "tag_list = []\n",
    "for tags in df[\"Tags\"]:\n",
    "    # clean tags from '>' and '<' occurences\n",
    "    tags = re.sub('><', ' ', tags) \n",
    "    tags = re.sub('<|>', '', tags)\n",
    "    # add single tag of tags and add it to lists and sets\n",
    "    for tag in tags.split():               \n",
    "        tag_list.append(tag)\n",
    "\n",
    "#tag_set = set(tag_list)\n",
    "# filter term 'machine-learning', because sql export filters for this term\n",
    "tag_set = set(filter(lambda a: a != 'machine-learning', tag_list))\n",
    "tag_Counter = Counter(tag_list)\n",
    "\n",
    "print(tag_set)"
   ]
  },
  {
   "cell_type": "markdown",
   "id": "5b408c31",
   "metadata": {},
   "source": [
    "# Datenanalyse\n",
    "Die folgende Zelle bereinigt die Posts von HTML-Tags und analysiert die Posts anhand ihrer Wörter. Hierfür werden die drei Patterns technology_pattern1-3 verwendet. Anschließend werden die gefundenen Wörter in eine Liste gespeichert."
   ]
  },
  {
   "cell_type": "code",
   "execution_count": 18,
   "id": "84cd3963",
   "metadata": {},
   "outputs": [
    {
     "name": "stdout",
     "output_type": "stream",
     "text": [
      "finished\n"
     ]
    }
   ],
   "source": [
    "# clean posts and match words\n",
    "nlp = spacy.load(\"en_core_web_lg\")\n",
    "matcher = Matcher(nlp.vocab)\n",
    "\n",
    "technology_pattern1 = [{'POS': 'PROPN', 'OP': '+'},\n",
    "                       {'POS': 'NUM', 'OP': '?'}\n",
    "                      ]\n",
    "\n",
    "technology_pattern2 = [{'OP': '+', 'POS': 'PROPN'},\n",
    "                       {'TEXT': '-', 'OP': '?'},\n",
    "                       {'POS': 'VERB', 'OP': '+'}\n",
    "                      ]\n",
    "\n",
    "technology_pattern3 = [{'OP': '+', 'POS': 'NOUN'},\n",
    "                       {'TEXT': '-', 'OP': '?'},\n",
    "                       {'POS': 'PROPN', 'OP': '+'}\n",
    "                      ]\n",
    "\n",
    "\n",
    "word_set = set()\n",
    "word_list = []\n",
    "regex_pattern = '(<(pre|code|blockquote|a|strike)(.|\\n)*?\\/(pre|code|blockquote|a|strike)>)*?|<(p|b|br|br(.|\\n)*?\\/|sub|sup|em|strong|hr|s|i|ol|ul|li|code)*?>|<\\/(p|b|br|sub|sup|em|strong|s|i|ol|ul|li|div|pre|blockquote|a|code)>|<h(.|\\n)*?>(.|\\n)*?<\\/h(.|\\n)*?>*?|(<(img|div|ol|ul|li)(.|\\n)*?\\/*?>)|\\n'\n",
    "\n",
    "matcher.add(\"match_technology1\", [technology_pattern1])\n",
    "matcher.add(\"match_technology2\", [technology_pattern2])\n",
    "matcher.add(\"match_technology3\", [technology_pattern3])\n",
    "\n",
    "for text in stack_posts[\"AnswerBody\"][n_tag_posts:n_answer_posts]:\n",
    "    text = re.sub(regex_pattern, '', text, flags=re.I)\n",
    "    text = re.sub('\\(|\\)', ' ', text, flags=re.I)    \n",
    "    doc = nlp(text)    \n",
    "    \n",
    "    matches = matcher(doc)    \n",
    "    match_set = set()\n",
    "    for match_id, start, end in matches:\n",
    "        match_set.add(doc[start:end])\n",
    "    [word_list.append(filtered_span) for filtered_span in filter_spans(match_set)]    \n",
    "    \n",
    "print(\"finished\")"
   ]
  },
  {
   "cell_type": "markdown",
   "id": "eddbe802",
   "metadata": {},
   "source": [
    "Die Liste der Wörter wird in eine txt-Datei gespeichert."
   ]
  },
  {
   "cell_type": "code",
   "execution_count": 9,
   "id": "23886f2f",
   "metadata": {},
   "outputs": [],
   "source": [
    "word_list\n",
    "with open('word_list.txt', 'w', newline='') as myfile:\n",
    "    myfile.truncate(0)  \n",
    "    \n",
    "for word in word_list:    \n",
    "    with open('word_list.txt', 'a', newline='', encoding=\"utf-8\") as myfile:                \n",
    "        wr = csv.writer(myfile)\n",
    "        wr.writerow([word])"
   ]
  },
  {
   "cell_type": "markdown",
   "id": "fcb616ea",
   "metadata": {},
   "source": [
    "# Ähnlichkeitsberechnung\n",
    "Die Ähnlichkeit der zuvor gefundenen Wörter und der Tags wird berechnet. Ist diese höher als 0,8, wird das zugehörige Wort bzw. das Lemma des Wortes in einem Counter gespeichert."
   ]
  },
  {
   "cell_type": "code",
   "execution_count": 19,
   "id": "4ae57a3d",
   "metadata": {},
   "outputs": [
    {
     "name": "stderr",
     "output_type": "stream",
     "text": [
      "<ipython-input-19-f4c2f5af9b9b>:14: UserWarning: [W008] Evaluating Doc.similarity based on empty vectors.\n",
      "  if tag_doc.similarity(span) >= 0.8:\n"
     ]
    },
    {
     "name": "stdout",
     "output_type": "stream",
     "text": [
      "finished\n"
     ]
    }
   ],
   "source": [
    "# Term similarity\n",
    "\n",
    "word_set = set(word_list)\n",
    "\n",
    "# loop through relevant words and get their vectors\n",
    "technology_list = []\n",
    "technology_set = set()\n",
    "technology_counter = Counter()\n",
    "for tag in tag_set:\n",
    "    term_vector = []    \n",
    "    tag_doc = nlp(str(tag))    \n",
    "    \n",
    "    for i,span in enumerate(word_set):        \n",
    "        if tag_doc.similarity(span) >= 0.8:\n",
    "            #if span.text not in technology_string_set:\n",
    "            #    technology_list.append(span.text)                \n",
    "            \n",
    "            # be sure, that span is only counted once\n",
    "            if span not in technology_set:\n",
    "                technology_set.add(span)\n",
    "                technology_counter[span.lemma_.lower()] = technology_counter[span.lemma_.lower()] + 1\n",
    "print(\"finished\")"
   ]
  },
  {
   "cell_type": "code",
   "execution_count": 16,
   "id": "3f61f157",
   "metadata": {},
   "outputs": [],
   "source": [
    "with open('technology_list.txt', 'w', newline='') as myfile:\n",
    "    myfile.truncate(0)  \n",
    "    \n",
    "for technology in technology_string_set:    \n",
    "    with open('technology_list.txt', 'a', newline='', encoding=\"utf-8\") as myfile:        \n",
    "        wr = csv.writer(myfile)\n",
    "        wr.writerow([technology])"
   ]
  },
  {
   "cell_type": "markdown",
   "id": "b00e2378",
   "metadata": {},
   "source": [
    "# Visualisierung\n",
    "In der nächsten Zelle werden die gefundenen Technologien in einem Balkendiagramm dargestellt."
   ]
  },
  {
   "cell_type": "code",
   "execution_count": 21,
   "id": "c169779a",
   "metadata": {},
   "outputs": [
    {
     "data": {
      "image/png": "[encoded data removed]",
      "text/plain": [
       "<Figure size 900x504 with 1 Axes>"
      ]
     },
     "metadata": {},
     "output_type": "display_data"
    }
   ],
   "source": [
    "fig_alpha = 0.4\n",
    "ax_alpha = 0.5\n",
    "fontsize = 20\n",
    "line_color = '#F48024'\n",
    "face_color = '#BCBBBB'\n",
    "x_ticks = 250\n",
    "# vectorizer with threshold\n",
    "top_tech_counter = Counter({k: c for k,c in sorted(technology_counter.items(), key=lambda item: item[1], reverse=True)})\n",
    "\n",
    "keys = list(top_tech_counter.keys())[0:10]\n",
    "values = list(top_tech_counter.values())[0:10]\n",
    "\n",
    "plt.style.use('bmh')\n",
    "plt.rcParams[\"font.family\"] = 'Times New Roman'\n",
    "\n",
    "fig, ax = plt.subplots(figsize=(12.5,7))\n",
    "fig.patch.set_facecolor('#BCBBBB')\n",
    "fig.patch.set_alpha(ax_alpha)\n",
    "\n",
    "plt.suptitle('Häufigkeit der 10 häufigsten Technologien', fontsize=fontsize + 2)\n",
    "plt.xticks(np.arange(0, max(values)+x_ticks, x_ticks))\n",
    "plt.xlabel('Häufigkeit der Technologien', fontsize=fontsize)\n",
    "plt.ylabel('Technologie', fontsize=fontsize)\n",
    "\n",
    "ax.patch.set_facecolor(face_color)\n",
    "ax.patch.set_alpha(ax_alpha)\n",
    "ax.tick_params(axis='y', labelsize=fontsize-5)\n",
    "ax.tick_params(axis='x', labelsize=fontsize-5)\n",
    "ax.barh(keys, values, height=0.5, color='#F48024')\n",
    "\n",
    "plt.savefig('top_10_techs.png', bbox_inches='tight', pad_inches=0.2)"
   ]
  },
  {
   "cell_type": "code",
   "execution_count": null,
   "id": "9ecea8f5",
   "metadata": {},
   "outputs": [],
   "source": []
  }
 ],
 "metadata": {
  "kernelspec": {
   "display_name": "Python 3",
   "language": "python",
   "name": "python3"
  },
  "language_info": {
   "codemirror_mode": {
    "name": "ipython",
    "version": 3
   },
   "file_extension": ".py",
   "mimetype": "text/x-python",
   "name": "python",
   "nbconvert_exporter": "python",
   "pygments_lexer": "ipython3",
   "version": "3.9.4"
  }
 },
 "nbformat": 4,
 "nbformat_minor": 5
}
