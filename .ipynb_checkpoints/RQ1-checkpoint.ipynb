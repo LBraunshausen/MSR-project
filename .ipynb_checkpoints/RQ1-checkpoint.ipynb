{
 "cells": [
  {
   "cell_type": "markdown",
   "id": "aa4c5f7b",
   "metadata": {},
   "source": [
    "# Forschungsfrage 1 \n",
    "Im Folgendem wird die Forschungsfrage 1 behandelt.\n",
    "\n",
    "\tWelche Themen werden in Bezug auf das Thema Machine Learning diskutiert?"
   ]
  },
  {
   "cell_type": "markdown",
   "id": "40dc9c4c",
   "metadata": {},
   "source": [
    "# Importieren der Module\n",
    "In der folgenden Zelle werden die benötigten Module, wie zum Beispiel Spacy und scikit-learn importiert."
   ]
  },
  {
   "cell_type": "code",
   "execution_count": null,
   "id": "5dd30b1d",
   "metadata": {},
   "outputs": [],
   "source": [
    "import os\n",
    "os.environ[\"KMP_DUPLICATE_LIB_OK\"]=\"TRUE\"\n",
    "import matplotlib.pyplot as plt\n",
    "import spacy \n",
    "from spacy.matcher import Matcher\n",
    "from spacy.tokens import Doc\n",
    "from spacy.util import filter_spans\n",
    "import pandas as pd\n",
    "import re\n",
    "from collections import Counter\n",
    "import sklearn\n",
    "from sklearn.feature_extraction.text import TfidfVectorizer\n",
    "import numpy as np\n",
    "import copy\n",
    "import csv\n",
    "\n",
    "\n",
    "\n",
    "print(\"imported modules\")"
   ]
  },
  {
   "cell_type": "markdown",
   "id": "c33cad4d",
   "metadata": {},
   "source": [
    "Die Konfiguration der unteren Zelle dient der Auswahl der Datensätze. Um alle Datensätze zu erfassen ist start_post = 0 und end_post = 42637 zu setzen"
   ]
  },
  {
   "cell_type": "code",
   "execution_count": 2,
   "id": "6c0751d2",
   "metadata": {},
   "outputs": [],
   "source": [
    "# configuration\n",
    "start_post = 0\n",
    "end_post = 42637"
   ]
  },
  {
   "cell_type": "markdown",
   "id": "4a428751",
   "metadata": {},
   "source": [
    "# Datensätze laden\n",
    "Als nächstes müssen die Datensätze aus der exportierten CSV-Datei geladen werden."
   ]
  },
  {
   "cell_type": "code",
   "execution_count": 3,
   "id": "401bf781",
   "metadata": {},
   "outputs": [
    {
     "name": "stdout",
     "output_type": "stream",
     "text": [
      "loaded csv data\n"
     ]
    }
   ],
   "source": [
    "# Load csv data\n",
    "filepath = os.path.join(os.getcwd(), 'QueryResults_sample_42636_14_05_21.csv')\n",
    "\n",
    "stack_posts = pd.read_csv(filepath, sep = \",\")\n",
    "\n",
    "print(\"loaded csv data\")"
   ]
  },
  {
   "cell_type": "markdown",
   "id": "b70ed863",
   "metadata": {},
   "source": [
    "# Hilfsfunktionen\n",
    "In den folgenden drei Zellen sind verschiedene Hilfsfunktionen abgebildet. Diese werden für das Bereinigen und Filtern der Datensätze benötigt, aber auch für die Verwendung des Tf-Idf-Vectorizers und das Auswählen relavanter Wörter."
   ]
  },
  {
   "cell_type": "markdown",
   "id": "1a4e6336",
   "metadata": {},
   "source": [
    "Die clean_bodys Funktion bereinigt die Daten anhand eines Regex-Patterns und filtert beispielsweise HTML-Tags heraus.\n",
    "Die filter_spans Funktion filtert Wortüberlappungen, damit Wörter nicht überzählt werden."
   ]
  },
  {
   "cell_type": "code",
   "execution_count": 4,
   "id": "56b3994d",
   "metadata": {},
   "outputs": [],
   "source": [
    "regex_pattern = '(<(pre|code|blockquote|a|strike)(.|\\n)*?\\/(pre|code|blockquote|a|strike)>)*?|<(p|b|br|br(.|\\n)*?\\/|sub|sup|em|strong|hr|s|i|ol|ul|li|code)*?>|<\\/(p|b|br|sub|sup|em|strong|s|i|ol|ul|li|div|pre|blockquote|a|code)>|<h(.|\\n)*?>(.|\\n)*?<\\/h(.|\\n)*?>*?|(<(img|div|ol|ul|li)(.|\\n)*?\\/*?>)|\\n'\n",
    "def clean_bodys(text):\n",
    "    text = re.sub(regex_pattern, '', text, flags=re.I)\n",
    "    text = re.sub('\\(|\\)', ' ', text, flags=re.I)\n",
    "    return text\n",
    "\n",
    "def filter_spans(matches):\n",
    "    span_list = [doc[match[1]:match[2]] for match in matches]\n",
    "    filtered_spans = spacy.util.filter_spans(span_list)\n",
    "    return filtered_spans"
   ]
  },
  {
   "cell_type": "markdown",
   "id": "b55a55f5",
   "metadata": {},
   "source": [
    "Die nächste Zelle zeigt drei verschiedenen Möglichkeiten, wie der Tf-Idf-Vectorizer die relevanten Wörter auswählt.\n",
    "\n",
    "Diese Möglichkeiten sind:\n",
    "\n",
    "- Auswahl der Wörter über einen Schwellenwert    \n",
    "- Auswahl der obersten n Wörter    \n",
    "- Auswahl der obersten n Prozent der Wörter\n",
    "\n",
    "Die jeweilige Funktion ist in der Funktion get_relevant_words auszuwählen."
   ]
  },
  {
   "cell_type": "code",
   "execution_count": 5,
   "id": "8a0926af",
   "metadata": {},
   "outputs": [],
   "source": [
    "def vectorizer_with_threshold(text_vectorizer):\n",
    "    threshold = 0.5\n",
    "    vec = [i for i,value in enumerate(text_vectorizer.toarray()[0]) if value >= threshold]\n",
    "    return vec\n",
    "\n",
    "def vectorizer_top_n_words(text_vectorizer):    \n",
    "    n = 3\n",
    "    vec = np.argsort(text_vectorizer.toarray()).flatten()[::-1][0:n]        \n",
    "    return vec\n",
    "\n",
    "\n",
    "def vectorizer_top_n_percent(text_vectorizer, vec_len):\n",
    "    percent = 0.15\n",
    "    #vec_len = len(vectorizer.get_feature_names())\n",
    "    n = int(vec_len * percent)\n",
    "    \n",
    "    vec = np.argsort(text_vectorizer.toarray()).flatten()[::-1][0:n]            \n",
    "    return vec"
   ]
  },
  {
   "cell_type": "code",
   "execution_count": 6,
   "id": "42e4a294",
   "metadata": {},
   "outputs": [],
   "source": [
    "def get_relevant_words(text):\n",
    "    vectorizer = TfidfVectorizer(stop_words = 'english', min_df = 0.5)\n",
    "    try:\n",
    "        text_vectorizer = vectorizer.fit_transform([text])\n",
    "    except:        \n",
    "        return False\n",
    "    relevant_words = []    \n",
    "    feature_array = np.array(vectorizer.get_feature_names())\n",
    "\n",
    "    tfidf_bigger_than = vectorizer_with_threshold(text_vectorizer)\n",
    "    #tfidf_bigger_than = vectorizer_with_n_words(text_vectorizer)\n",
    "    #tfidf_bigger_than = vectorizer_top_n_percent(text_vectorizer, len(feature_array))\n",
    "    relevant_words.append(feature_array[tfidf_bigger_than])\n",
    "    return relevant_words\n",
    "    \n",
    "def add_words_to_counter(relevant_words, filtered_spans):    \n",
    "    for word in relevant_words[0]:\n",
    "        word_doc = nlp(str(word))\n",
    "        for span in filtered_spans:            \n",
    "            if word_doc[0].lemma_ in span.lemma_:\n",
    "                topic_counter[span.lemma_] += 1"
   ]
  },
  {
   "cell_type": "markdown",
   "id": "472ea0a4",
   "metadata": {},
   "source": [
    "# Analyse der Datensätze\n",
    "Die nächste Zelle zeigt das Finden von Wortzusammensetzungen für jeden einzelnen Datensatz. Diese werden durch ein definiertes Pattern gefunden. Anschließend werden die zuvor beschriebenen Hilfsfunktionen aufgerufen."
   ]
  },
  {
   "cell_type": "code",
   "execution_count": 12,
   "id": "ee1f6e5d",
   "metadata": {},
   "outputs": [
    {
     "name": "stdout",
     "output_type": "stream",
     "text": [
      "finished questions\n",
      "finished answers\n"
     ]
    }
   ],
   "source": [
    "# clean posts and match words\n",
    "nlp = spacy.load(\"en_core_web_lg\")\n",
    "matcher = Matcher(nlp.vocab)\n",
    "\n",
    "topic_pattern1 = [{'POS': 'ADJ', 'OP': '?'},\n",
    "           {'POS': 'NOUN', 'OP': '+'},\n",
    "           {'POS': 'NOUN', 'OP': '?'}\n",
    "          ]\n",
    "\n",
    "\n",
    "word_set = set()\n",
    "\n",
    "matcher.add(\"match_topic1\", [topic_pattern1])\n",
    "\n",
    "questions_df = pd.DataFrame(stack_posts[start_post:end_post])\n",
    "questions_df = questions_df.drop_duplicates([\"QuestionId\"])\n",
    "\n",
    "topic_counter = Counter()\n",
    "\n",
    "for question in questions_df[\"QuestionBody\"][start_post:end_post]:   \n",
    "    text = clean_bodys(question)\n",
    "    \n",
    "    doc = nlp(text)        \n",
    "    matches = matcher(doc)\n",
    "    \n",
    "    filtered_spans = filter_spans(matches)           \n",
    "    relevant_words = get_relevant_words(text)\n",
    "    \n",
    "    if relevant_words == False:\n",
    "        continue    \n",
    "    add_words_to_counter(relevant_words, filtered_spans)                \n",
    "    \n",
    "                \n",
    "print(\"finished questions\")\n",
    "for answer in stack_posts[\"AnswerBody\"][start_post:end_post]: \n",
    "    text = clean_bodys(answer) \n",
    "    \n",
    "    doc = nlp(text)     \n",
    "    matches = matcher(doc)    \n",
    "    \n",
    "    filtered_spans = filter_spans(matches)     \n",
    "    relevant_words = get_relevant_words(text)\n",
    "    \n",
    "    if relevant_words == False:\n",
    "        continue\n",
    "    add_words_to_counter(relevant_words, filtered_spans)         \n",
    "\n",
    "print(\"finished answers\")"
   ]
  },
  {
   "cell_type": "markdown",
   "id": "b17f9ac9",
   "metadata": {},
   "source": [
    "# Visualisierung\n",
    "Die folgende Zelle zeigt die Visualisierung der Ergebnisse. Die Ergebnisse sind im topic_counter enthalten und bigger_than_x_counter limitiert die Ergenbnisse auf die jenigen, die eine Häufigkeit von mindestens 500 haben.\n",
    "Anschließend werden in der Grafik nur die obersten 10 angezeigt. Ergänzend ist noch zu erwähnen, dass die Ergebnisse \"training datum\" und \"datum\" durch \"training data\" und \"data\" ersetzt werden. \"Datum\" ist in diesem Fall das Lemma von Data und wird zur besseren Verständlichkeit durch \"Data\" ersetzt."
   ]
  },
  {
   "cell_type": "code",
   "execution_count": 22,
   "id": "5aabfa43",
   "metadata": {},
   "outputs": [
    {
     "data": {
      "image/png": "[encoded data removed]",
      "text/plain": [
       "<Figure size 900x504 with 1 Axes>"
      ]
     },
     "metadata": {},
     "output_type": "display_data"
    }
   ],
   "source": [
    "fig_alpha = 0.4\n",
    "ax_alpha = 0.5\n",
    "fontsize = 20\n",
    "line_color = '#F48024'\n",
    "face_color = '#BCBBBB'\n",
    "x_ticks = 500\n",
    "\n",
    "# vectorizer with threshold\n",
    "training_datum_val = topic_counter['training datum']\n",
    "datum_val = topic_counter['datum']\n",
    "\n",
    "del topic_counter['training datum']\n",
    "del topic_counter['datum']\n",
    "\n",
    "\n",
    "if training_datum_val != 0 and datum_val != 0:\n",
    "    topic_counter['training data'] = training_datum_val\n",
    "    topic_counter['data'] = datum_val\n",
    "\n",
    "\n",
    "bigger_than_x_counter = Counter({k: c for k,c in sorted(topic_counter.items(), key=lambda item: item[1], reverse=True)if c >= 500})\n",
    "\n",
    "keys = list(bigger_than_x_counter.keys())[0:10]\n",
    "values = list(bigger_than_x_counter.values())[0:10]\n",
    "\n",
    "plt.style.use('bmh')\n",
    "plt.rcParams[\"font.family\"] = 'Times New Roman'\n",
    "\n",
    "fig, ax = plt.subplots(figsize=(12.5,7))\n",
    "fig.patch.set_facecolor('#BCBBBB')\n",
    "fig.patch.set_alpha(ax_alpha)\n",
    "\n",
    "plt.suptitle('Häufigkeit der 10 häufigsten Themen', fontsize=fontsize)\n",
    "plt.xticks(np.arange(0, max(values)+x_ticks, x_ticks))\n",
    "plt.xlabel('Häufigkeit der Themen', fontsize=fontsize)\n",
    "plt.ylabel('Thema', fontsize=fontsize)\n",
    "\n",
    "ax.patch.set_facecolor(face_color)\n",
    "ax.patch.set_alpha(ax_alpha)\n",
    "ax.tick_params(axis='y', labelsize=fontsize-5)\n",
    "ax.tick_params(axis='x', labelsize=fontsize-5)\n",
    "ax.barh(keys, values, height=0.5, color='#F48024')\n",
    "\n",
    "plt.savefig('top_10.png', bbox_inches='tight', pad_inches=0.2)"
   ]
  },
  {
   "cell_type": "code",
   "execution_count": null,
   "id": "e5489d39",
   "metadata": {},
   "outputs": [],
   "source": [
    "# vectorizer with percent\n",
    "bigger_than_x_counter = Counter({k: c for k,c in sorted(topic_counter.items(), key=lambda item: item[1], reverse=True) if c >= 100})\n",
    "\n",
    "keys = list(bigger_than_x_counter.keys())\n",
    "values = bigger_than_x_counter.values()\n",
    "\n",
    "fig, ax = plt.subplots(figsize=(30,30))\n",
    "plt.xticks(np.arange(0, max(values)+250, 250.0))\n",
    "#ax.xaxis.tick_top()\n",
    "plt.xlabel('Häufigkeit der Themen')\n",
    "plt.ylabel('Thema')\n",
    "ax.barh(keys, values)\n"
   ]
  },
  {
   "cell_type": "code",
   "execution_count": null,
   "id": "5939f445",
   "metadata": {},
   "outputs": [],
   "source": []
  }
 ],
 "metadata": {
  "kernelspec": {
   "display_name": "Python 3",
   "language": "python",
   "name": "python3"
  },
  "language_info": {
   "codemirror_mode": {
    "name": "ipython",
    "version": 3
   },
   "file_extension": ".py",
   "mimetype": "text/x-python",
   "name": "python",
   "nbconvert_exporter": "python",
   "pygments_lexer": "ipython3",
   "version": "3.9.4"
  }
 },
 "nbformat": 4,
 "nbformat_minor": 5
}
