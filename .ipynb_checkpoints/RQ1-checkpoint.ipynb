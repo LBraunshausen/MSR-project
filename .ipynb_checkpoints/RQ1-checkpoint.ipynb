{
 "cells": [
  {
   "cell_type": "code",
   "execution_count": 1,
   "id": "8cf43b7f",
   "metadata": {},
   "outputs": [
    {
     "name": "stdout",
     "output_type": "stream",
     "text": [
      "imported modules\n"
     ]
    }
   ],
   "source": [
    "import os\n",
    "os.environ[\"KMP_DUPLICATE_LIB_OK\"]=\"TRUE\"\n",
    "import matplotlib.pyplot as plt\n",
    "import spacy \n",
    "from spacy.matcher import Matcher\n",
    "from spacy.tokens import Doc\n",
    "from spacy.util import filter_spans\n",
    "import pandas as pd\n",
    "import re\n",
    "from collections import Counter\n",
    "import sklearn\n",
    "from sklearn.feature_extraction.text import TfidfVectorizer\n",
    "import numpy as np\n",
    "import copy\n",
    "import csv\n",
    "\n",
    "\n",
    "\n",
    "print(\"imported modules\")"
   ]
  },
  {
   "cell_type": "code",
   "execution_count": 2,
   "id": "2bacdfec",
   "metadata": {},
   "outputs": [],
   "source": [
    "# configuration\n",
    "start_post = 0\n",
    "end_post = 42636"
   ]
  },
  {
   "cell_type": "code",
   "execution_count": 3,
   "id": "bbe7e7f4",
   "metadata": {},
   "outputs": [
    {
     "name": "stdout",
     "output_type": "stream",
     "text": [
      "loaded csv data\n"
     ]
    }
   ],
   "source": [
    "# Load csv data\n",
    "filepath = os.path.join(os.getcwd(), 'QueryResults_sample_42636_14_05_21.csv')\n",
    "\n",
    "stack_posts = pd.read_csv(filepath, sep = \",\")\n",
    "\n",
    "print(\"loaded csv data\")"
   ]
  },
  {
   "cell_type": "code",
   "execution_count": 4,
   "id": "6dba1a98",
   "metadata": {},
   "outputs": [],
   "source": [
    "regex_pattern = '(<(pre|code|blockquote|a|strike)(.|\\n)*?\\/(pre|code|blockquote|a|strike)>)*?|<(p|b|br|br(.|\\n)*?\\/|sub|sup|em|strong|hr|s|i|ol|ul|li|code)*?>|<\\/(p|b|br|sub|sup|em|strong|s|i|ol|ul|li|div|pre|blockquote|a|code)>|<h(.|\\n)*?>(.|\\n)*?<\\/h(.|\\n)*?>*?|(<(img|div|ol|ul|li)(.|\\n)*?\\/*?>)|\\n'\n",
    "def clean_bodys(text):\n",
    "    text = re.sub(regex_pattern, '', text, flags=re.I)\n",
    "    text = re.sub('\\(|\\)', ' ', text, flags=re.I)\n",
    "    return text\n",
    "\n",
    "def filter_spans(matches):\n",
    "    span_list = [doc[match[1]:match[2]] for match in matches]\n",
    "    filtered_spans = spacy.util.filter_spans(span_list)\n",
    "    return filtered_spans"
   ]
  },
  {
   "cell_type": "code",
   "execution_count": 5,
   "id": "aaa00cea",
   "metadata": {},
   "outputs": [],
   "source": [
    "def vectorizer_with_threshold(text_vectorizer):\n",
    "    threshold = 0.5\n",
    "    vec = [i for i,value in enumerate(text_vectorizer.toarray()[0]) if value >= threshold]\n",
    "    return vec\n",
    "\n",
    "def vectorizer_top_n_words(text_vectorizer):    \n",
    "    n = 3\n",
    "    vec = np.argsort(text_vectorizer.toarray()).flatten()[::-1][0:n]        \n",
    "    return vec\n",
    "\n",
    "\n",
    "def vectorizer_top_n_percent(text_vectorizer, vec_len):\n",
    "    percent = 0.15\n",
    "    #vec_len = len(vectorizer.get_feature_names())\n",
    "    n = int(vec_len * percent)\n",
    "    \n",
    "    vec = np.argsort(text_vectorizer.toarray()).flatten()[::-1][0:n]            \n",
    "    return vec"
   ]
  },
  {
   "cell_type": "code",
   "execution_count": 30,
   "id": "a5ed7f07",
   "metadata": {},
   "outputs": [],
   "source": [
    "def get_relevant_words(text):\n",
    "    vectorizer = TfidfVectorizer(stop_words = 'english', min_df = 0.5)\n",
    "    try:\n",
    "        text_vectorizer = vectorizer.fit_transform([text])\n",
    "    except:        \n",
    "        return False\n",
    "    relevant_words = []    \n",
    "    feature_array = np.array(vectorizer.get_feature_names())\n",
    "\n",
    "    tfidf_bigger_than = vectorizer_with_threshold(text_vectorizer)\n",
    "    #tfidf_bigger_than = vectorizer_with_n_words(text_vectorizer)\n",
    "    #tfidf_bigger_than = vectorizer_top_n_percent(text_vectorizer, len(feature_array))\n",
    "    relevant_words.append(feature_array[tfidf_bigger_than])\n",
    "    return relevant_words\n",
    "    \n",
    "def add_words_to_counter(relevant_words, filtered_spans):    \n",
    "    for word in relevant_words[0]:\n",
    "        word_doc = nlp(str(word))\n",
    "        for span in filtered_spans:            \n",
    "            if word_doc[0].lemma_ in span.lemma_:\n",
    "                topic_counter[span.lemma_] += 1"
   ]
  },
  {
   "cell_type": "code",
   "execution_count": 31,
   "id": "66255986",
   "metadata": {},
   "outputs": [
    {
     "name": "stdout",
     "output_type": "stream",
     "text": [
      "finished questions\n",
      "finished answers\n"
     ]
    }
   ],
   "source": [
    "# clean posts and match words\n",
    "nlp = spacy.load(\"en_core_web_lg\")\n",
    "matcher = Matcher(nlp.vocab)\n",
    "\n",
    "topic_pattern1 = [{'POS': 'ADJ', 'OP': '?'},\n",
    "           {'POS': 'NOUN', 'OP': '+'},\n",
    "           {'POS': 'NOUN', 'OP': '?'}\n",
    "          ]\n",
    "\n",
    "\n",
    "word_set = set()\n",
    "\n",
    "matcher.add(\"match_topic1\", [topic_pattern1])\n",
    "\n",
    "questions_df = pd.DataFrame(stack_posts[start_post:end_post])\n",
    "questions_df = questions_df.drop_duplicates([\"QuestionId\"])\n",
    "\n",
    "topic_counter = Counter()\n",
    "\n",
    "for question in questions_df[\"QuestionBody\"][start_post:end_post]:   \n",
    "    text = clean_bodys(question)\n",
    "    \n",
    "    doc = nlp(text)        \n",
    "    matches = matcher(doc)\n",
    "    \n",
    "    filtered_spans = filter_spans(matches)           \n",
    "    relevant_words = get_relevant_words(text)\n",
    "    \n",
    "    if relevant_words == False:\n",
    "        continue    \n",
    "    add_words_to_counter(relevant_words, filtered_spans)                \n",
    "    \n",
    "                \n",
    "print(\"finished questions\")\n",
    "for answer in stack_posts[\"AnswerBody\"][start_post:end_post]: \n",
    "    text = clean_bodys(answer) \n",
    "    \n",
    "    doc = nlp(text)     \n",
    "    matches = matcher(doc)    \n",
    "    \n",
    "    filtered_spans = filter_spans(matches)     \n",
    "    relevant_words = get_relevant_words(text)\n",
    "    \n",
    "    if relevant_words == False:\n",
    "        continue\n",
    "    add_words_to_counter(relevant_words, filtered_spans)         \n",
    "\n",
    "print(\"finished answers\")"
   ]
  },
  {
   "cell_type": "code",
   "execution_count": 12,
   "id": "85d6f22f",
   "metadata": {},
   "outputs": [
    {
     "data": {
      "text/plain": [
       "14847"
      ]
     },
     "execution_count": 12,
     "metadata": {},
     "output_type": "execute_result"
    }
   ],
   "source": [
    "bigger_than_x_counter[\"model\"]"
   ]
  },
  {
   "cell_type": "code",
   "execution_count": 65,
   "id": "c7e0932b",
   "metadata": {},
   "outputs": [
    {
     "data": {
      "text/plain": [
       "<BarContainer object of 11 artists>"
      ]
     },
     "execution_count": 65,
     "metadata": {},
     "output_type": "execute_result"
    },
    {
     "data": {
      "image/png": "[encoded data removed]",
      "text/plain": [
       "<Figure size 720x540 with 1 Axes>"
      ]
     },
     "metadata": {},
     "output_type": "display_data"
    }
   ],
   "source": [
    "fig_alpha = 0.4\n",
    "ax_alpha = 0.5\n",
    "fontsize = 15\n",
    "line_color = '#F48024'\n",
    "face_color = '#BCBBBB'\n",
    "x_ticks = 500\n",
    "\n",
    "# vectorizer with threshold\n",
    "bigger_than_x_counter = Counter({k: c for k,c in sorted(topic_counter.items(), key=lambda item: item[1], reverse=True)if c >= 500})\n",
    "\n",
    "keys = list(bigger_than_x_counter.keys())\n",
    "values = bigger_than_x_counter.values()\n",
    "\n",
    "plt.style.use('bmh')\n",
    "\n",
    "\n",
    "fig, ax = plt.subplots(figsize=(10,7.5))\n",
    "fig.patch.set_facecolor('#BCBBBB')\n",
    "fig.patch.set_alpha(ax_alpha)\n",
    "\n",
    "plt.suptitle('Themenhäufigkeit top 10 Themen', fontsize=fontsize + 2)\n",
    "plt.xticks(np.arange(0, max(values)+x_ticks, x_ticks))\n",
    "plt.xlabel('Häufigkeit der Themen', fontsize=fontsize)\n",
    "plt.ylabel('Thema', fontsize=fontsize)\n",
    "\n",
    "ax.patch.set_facecolor(face_color)\n",
    "ax.patch.set_alpha(ax_alpha)\n",
    "ax.barh(keys, values, height=0.5, color='#F48024')"
   ]
  },
  {
   "cell_type": "code",
   "execution_count": null,
   "id": "71fb01d9",
   "metadata": {},
   "outputs": [],
   "source": [
    "# vectorizer with percent\n",
    "bigger_than_x_counter = Counter({k: c for k,c in sorted(topic_counter.items(), key=lambda item: item[1], reverse=True) if c >= 100})\n",
    "\n",
    "keys = list(bigger_than_x_counter.keys())\n",
    "values = bigger_than_x_counter.values()\n",
    "\n",
    "fig, ax = plt.subplots(figsize=(30,30))\n",
    "plt.xticks(np.arange(0, max(values)+250, 250.0))\n",
    "#ax.xaxis.tick_top()\n",
    "plt.xlabel('Häufigkeit der Themen')\n",
    "plt.ylabel('Thema')\n",
    "ax.barh(keys, values)\n"
   ]
  },
  {
   "cell_type": "code",
   "execution_count": null,
   "id": "9a6f8295",
   "metadata": {},
   "outputs": [],
   "source": []
  }
 ],
 "metadata": {
  "kernelspec": {
   "display_name": "Python 3",
   "language": "python",
   "name": "python3"
  },
  "language_info": {
   "codemirror_mode": {
    "name": "ipython",
    "version": 3
   },
   "file_extension": ".py",
   "mimetype": "text/x-python",
   "name": "python",
   "nbconvert_exporter": "python",
   "pygments_lexer": "ipython3",
   "version": "3.9.4"
  }
 },
 "nbformat": 4,
 "nbformat_minor": 5
}
