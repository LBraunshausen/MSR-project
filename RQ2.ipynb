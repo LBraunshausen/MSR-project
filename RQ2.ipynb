{
 "cells": [
  {
   "cell_type": "code",
   "execution_count": 1,
   "id": "94f74f53",
   "metadata": {},
   "outputs": [
    {
     "name": "stdout",
     "output_type": "stream",
     "text": [
      "imported modules\n"
     ]
    }
   ],
   "source": [
    "import os\n",
    "os.environ[\"KMP_DUPLICATE_LIB_OK\"]=\"TRUE\"\n",
    "import matplotlib.pyplot as plt\n",
    "import spacy \n",
    "from spacy.matcher import Matcher\n",
    "from spacy.tokens import Doc\n",
    "from spacy.util import filter_spans\n",
    "import pandas as pd\n",
    "import re\n",
    "from collections import Counter\n",
    "import sklearn\n",
    "from sklearn.feature_extraction.text import TfidfVectorizer\n",
    "from sklearn.metrics.pairwise import cosine_similarity\n",
    "import numpy as np\n",
    "import copy\n",
    "from datetime import datetime\n",
    "\n",
    "\n",
    "print(\"imported modules\")"
   ]
  },
  {
   "cell_type": "code",
   "execution_count": null,
   "id": "c1be82b3",
   "metadata": {},
   "outputs": [],
   "source": [
    "# configuration\n",
    "start_post = 0\n",
    "end_post = 42000"
   ]
  },
  {
   "cell_type": "code",
   "execution_count": 2,
   "id": "4e5f3c27",
   "metadata": {},
   "outputs": [
    {
     "name": "stdout",
     "output_type": "stream",
     "text": [
      "loaded csv data\n"
     ]
    }
   ],
   "source": [
    "# Load csv data\n",
    "filepath = os.path.join(os.getcwd(), 'QueryResults_sample_42636_14_05_21.csv')\n",
    "\n",
    "stack_posts = pd.read_csv(filepath, sep = \",\")\n",
    "\n",
    "print(\"loaded csv data\")"
   ]
  },
  {
   "cell_type": "code",
   "execution_count": 3,
   "id": "c8db5d39",
   "metadata": {},
   "outputs": [],
   "source": [
    "def get_date(data_string):\n",
    "    date = datetime.date(datetime.strptime(data_string, '%Y-%m-%d %H:%M:%S'))\n",
    "    year = pd.Timestamp(date).year\n",
    "    quarter = pd.Timestamp(date).quarter\n",
    "    return year, quarter\n",
    "\n",
    "def clean_bodys(text):\n",
    "    text = re.sub(regex_pattern, '', text, flags=re.I)\n",
    "    text = re.sub('\\(|\\)', ' ', text, flags=re.I)\n",
    "    return text\n",
    "\n",
    "def filter_spans(matches):\n",
    "    span_list = [doc[match[1]:match[2]] for match in matches]\n",
    "    filtered_spans = spacy.util.filter_spans(span_list)\n",
    "    return filtered_spans"
   ]
  },
  {
   "cell_type": "code",
   "execution_count": 4,
   "id": "e5309143",
   "metadata": {},
   "outputs": [],
   "source": [
    "def vectorizer_with_threshold(text_vectorizer):\n",
    "    threshold = 0.3\n",
    "    vec = [i for i,value in enumerate(text_vectorizer.toarray()[0]) if value >= threshold]\n",
    "    return vec\n",
    "\n",
    "def vectorizer_top_n_words(text_vectorizer):    \n",
    "    n = 3\n",
    "    vec = np.argsort(text_vectorizer.toarray()).flatten()[::-1][0:n]        \n",
    "    return vec\n",
    "\n",
    "\n",
    "def vectorizer_top_n_percent(text_vectorizer, vec_len):\n",
    "    percent = 0.15\n",
    "    #vec_len = len(vectorizer.get_feature_names())\n",
    "    n = int(vec_len * percent)\n",
    "    \n",
    "    vec = np.argsort(text_vectorizer.toarray()).flatten()[::-1][0:n]            \n",
    "    return vec"
   ]
  },
  {
   "cell_type": "code",
   "execution_count": 5,
   "id": "d598eb14",
   "metadata": {},
   "outputs": [],
   "source": [
    "def get_relevant_words(text):\n",
    "    vectorizer = TfidfVectorizer(stop_words = 'english', min_df = 0.5)\n",
    "    try:\n",
    "        text_vectorizer = vectorizer.fit_transform([text])\n",
    "    except:        \n",
    "        return False\n",
    "    relevant_words = []    \n",
    "    feature_array = np.array(vectorizer.get_feature_names())\n",
    "\n",
    "    #tfidf_bigger_than = vectorizer_with_threshold(text_vectorizer)\n",
    "    #tfidf_bigger_than = vectorizer_with_n_words(text_vectorizer)\n",
    "    tfidf_bigger_than = vectorizer_top_n_percent(text_vectorizer, len(feature_array))\n",
    "    relevant_words.append(feature_array[tfidf_bigger_than])\n",
    "    return relevant_words\n",
    "    \n",
    "def add_words_to_counter(relevant_words, filtered_spans, year, quarter):    \n",
    "    for word in relevant_words[0]:          \n",
    "        for span in filtered_spans:            \n",
    "            if word in span.text:    \n",
    "                topic_frequency_dict[year][quarter][span.lemma_] += 1"
   ]
  },
  {
   "cell_type": "code",
   "execution_count": 6,
   "id": "50d44705",
   "metadata": {},
   "outputs": [
    {
     "name": "stdout",
     "output_type": "stream",
     "text": [
      "finished\n"
     ]
    }
   ],
   "source": [
    "# clean posts and match words\n",
    "nlp = spacy.load(\"en_core_web_lg\")\n",
    "matcher = Matcher(nlp.vocab)\n",
    "\n",
    "topic_pattern1 = [{'POS': 'ADJ', 'OP': '?'},\n",
    "           {'OP': '+', 'POS': 'NOUN'},\n",
    "           {'POS': 'NOUN', 'OP': '?'}\n",
    "          ]\n",
    "\n",
    "matcher.add(\"match_topic1\", [topic_pattern1])\n",
    "\n",
    "word_set = set()\n",
    "regex_pattern = '(<(pre|code|blockquote|a|strike)(.|\\n)*?\\/(pre|code|blockquote|a|strike)>)*?|<(p|b|br|br(.|\\n)*?\\/|sub|sup|em|strong|hr|s|i|ol|ul|li|code)*?>|<\\/(p|b|br|sub|sup|em|strong|s|i|ol|ul|li|div|pre|blockquote|a|code)>|<h(.|\\n)*?>(.|\\n)*?<\\/h(.|\\n)*?>*?|(<(img|div|ol|ul|li)(.|\\n)*?\\/*?>)|\\n'\n",
    "post_df = pd.DataFrame(stack_posts[[\"QuestionId\", \"QuestionDate\", \"QuestionBody\", \"AnswerId\", \"AnswerBody\", \"AnswerDate\"]][0:end_post])\n",
    "\n",
    "\n",
    "# initialize topic frequency counter\n",
    "topic_frequency_dict = dict()\n",
    "for year in range(2015, 2022):\n",
    "    topic_frequency_dict[year] = dict()\n",
    "    for quarter in range(1, 5):\n",
    "        topic_frequency_dict[year][quarter] = Counter()\n",
    "        \n",
    "for i, line in enumerate(post_df.itertuples()):\n",
    "    post = pd.DataFrame(line).transpose().drop(0, axis=1)\n",
    "    post.columns = post_df.columns\n",
    "    \n",
    "    # analyze questions    \n",
    "    if post[\"QuestionId\"][0] != post_df.iloc[i - 1][\"QuestionId\"]:            \n",
    "        text = clean_bodys(post[\"QuestionBody\"][0])\n",
    "        doc = nlp(text)\n",
    "        matches = matcher(doc)\n",
    "        \n",
    "        filtered_spans = filter_spans(matches)\n",
    "        relevant_words = get_relevant_words(text)\n",
    "        if relevant_words == False:\n",
    "            continue\n",
    "        \n",
    "        year, quarter = get_date(post[\"QuestionDate\"][0])\n",
    "        add_words_to_counter(relevant_words, filtered_spans, year, quarter)        \n",
    "    \n",
    "    # analyze answers\n",
    "    text = clean_bodys(post[\"AnswerBody\"][0])      \n",
    "    doc = nlp(text)        \n",
    "    matches = matcher(doc)\n",
    "    \n",
    "    filtered_spans = filter_spans(matches)    \n",
    "    relevant_words = get_relevant_words(text)\n",
    "    if relevant_words == False:\n",
    "        continue\n",
    "    \n",
    "    year, quarter = get_date(post[\"AnswerDate\"][0])   \n",
    "    add_words_to_counter(relevant_words, filtered_spans, year, quarter)\n",
    "    \n",
    "print(\"finished\")"
   ]
  },
  {
   "cell_type": "code",
   "execution_count": null,
   "id": "4273cece",
   "metadata": {},
   "outputs": [],
   "source": [
    "topic_frequency_df = pd.DataFrame.from_dict(topic_frequency_dict).transpose()\n",
    "topic_counter = Counter()\n",
    "\n",
    "for year in topic_frequency_df:\n",
    "    for quarter in topic_frequency_df[year]:\n",
    "        topic_counter = sum((topic_counter, quarter), Counter())\n",
    "\n",
    "#bigger_than_x_counter = Counter({k: c for k,c in topic_counter.items() if c >= 50})\n",
    "#sorted_counter = bigger_than_x_counter.most_common()\n",
    "#df = pd.DataFrame.from_dict(topic_frequency_dict, orient='index', columns=[\"Häufigkeit\"]).sort_values(by=['Häufigkeit'], ascending=False)\n",
    "#topic_frequency_dict\n",
    "#plt.style.use('fivethirtyeight')\n",
    "\n",
    "#figure = df.plot(kind = 'bar', figsize=(25, 25))\n",
    "#figure.set_xlabel(\"Wort\")\n",
    "#figure.set_ylabel(\"Häufigkeit\")"
   ]
  },
  {
   "cell_type": "code",
   "execution_count": 18,
   "id": "3e5756e7",
   "metadata": {},
   "outputs": [
    {
     "data": {
      "image/png": "[encoded data removed]",
      "text/plain": [
       "<Figure size 432x288 with 1 Axes>"
      ]
     },
     "metadata": {
      "needs_background": "light"
     },
     "output_type": "display_data"
    }
   ],
   "source": [
    "i = 0\n",
    "for year in topic_frequency_dict:    \n",
    "    for quarter in topic_frequency_dict[year]:\n",
    "        plt.bar(i, topic_frequency_dict[year][quarter][\"class\"], color='#ff0000', width=0.25, edgecolor='red')\n",
    "        i += 1        \n",
    "\n",
    "plt.xlabel('Quartale')\n",
    "plt.ylabel('Anzahl Wörter')\n",
    "plt.xticks([x * 4 for x in range(2022-2015)], [year for year in range(2015, 2022)])\n",
    "plt.yticks([y * 250 for y in range(0,10)])\n",
    "plt.show()"
   ]
  },
  {
   "cell_type": "code",
   "execution_count": null,
   "id": "692c77e1",
   "metadata": {},
   "outputs": [],
   "source": []
  },
  {
   "cell_type": "code",
   "execution_count": null,
   "id": "225255d8",
   "metadata": {},
   "outputs": [],
   "source": []
  }
 ],
 "metadata": {
  "kernelspec": {
   "display_name": "Python 3",
   "language": "python",
   "name": "python3"
  },
  "language_info": {
   "codemirror_mode": {
    "name": "ipython",
    "version": 3
   },
   "file_extension": ".py",
   "mimetype": "text/x-python",
   "name": "python",
   "nbconvert_exporter": "python",
   "pygments_lexer": "ipython3",
   "version": "3.9.4"
  }
 },
 "nbformat": 4,
 "nbformat_minor": 5
}
